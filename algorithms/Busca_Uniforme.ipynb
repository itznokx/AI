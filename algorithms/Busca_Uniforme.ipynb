
 "cells": [
  {
   "cell_type": "code",
   "execution_count": 1,
   "id": "244a9795-8e70-41ca-9e49-009243289fbd",
   "metadata": {},
    "outputs": [],
   "source": [
    "class Graph:\n",
    "   def __init__(self, graph: dict = {}):\n",
    "       self.graph = graph  # A dictionary for the adjacency list\n",
    "\n",
    "   def add_edge(self, node1, node2, weight):\n",
    "       if node1 not in self.graph:  # Check if the node is already added\n",
    "           self.graph[node1] = {}  # If not, create the node\n",
    "       self.graph[node1][node2] = weight  # Else, add a connection to its neighbor\n",
    "\n",
    "   def shortest_distances(self, source: str):\n",
    "       # Initialize the values of all nodes with infinity\n",
    "       distances = {node: float(\"inf\") for node in self.graph}\n",
    "       distances[source] = 0  # Set the source value to 0\n",
    "\n",
    "       # Initialize a priority queue\n",
    "       pq = [(0, source)]\n",
    "       heapify(pq)\n",
    "\n",
    "       # Create a set to hold visited nodes\n",
    "       visited = set()\n",
    "\n",
    "       while pq:  # While the priority queue isn't empty\n",
    "           current_distance, current_node = heappop(pq)  # Get the node with the min distance\n",
    "\n",
    "           if current_node in visited:\n",
    "               continue  # Skip already visited nodes\n",
    "           visited.add(current_node)  # Else, add the node to visited set\n",
    "\n",
    "           for neighbor, weight in self.graph[current_node].items():\n",
    "               # Calculate the distance from current_node to the neighbor\n",
    "               tentative_distance = current_distance + weight\n",
    "               if tentative_distance < distances[neighbor]:\n",
    "                   distances[neighbor] = tentative_distance\n",
    "                   heappush(pq, (tentative_distance, neighbor))\n",
    "       return distances\n"
   ]
  },
  {
   "cell_type": "code",
   "execution_count": 3,
   "id": "18dafd7c-e14e-4348-943f-16a951b6189f",
   "metadata": {},
   "outputs": [],
   "source": [
    "G = Graph()\n",
    "\n",
    "# Add A and its neighbors\n",
    "G.add_edge(\"A\", \"B\", 3)\n",
    "G.add_edge(\"A\", \"C\", 3)\n",
    "\n",
    "# Add B and its neighbors\n",
    "G.add_edge(\"B\", \"A\", 3)\n",
    "G.add_edge(\"B\", \"D\", 3.5)\n",
    "G.add_edge(\"B\", \"E\", 2.8)\n",
    "\n",
    "G.add_edge(\"C\", \"A\", 3)\n",
    "G.add_edge(\"C\", \"E\", 2.8)\n",
    "G.add_edge(\"C\", \"F\", 3.5)\n",
    "\n",
    "G.add_edge(\"D\", \"B\", 3.5)\n",
    "G.add_edge(\"D\", \"E\", 3.1)\n",
    "G.add_edge(\"D\", \"G\", 10)\n",
    "\n",
    "G.add_edge(\"E\", \"C\", 2.8)\n",
    "G.add_edge(\"E\", \"B\", 2.8)\n",
    "G.add_edge(\"E\", \"D\", 3.1)\n",
    "G.add_edge(\"E\", \"G\", 7)\n",
    "\n",
    "G.add_edge(\"F\", \"C\", 3.5)\n",
    "G.add_edge(\"F\", \"G\", 2.5)\n",
    "\n",
    "G.add_edge(\"G\", \"F\", 2.5)\n",
    "G.add_edge(\"G\", \"E\", 7)\n",
    "G.add_edge(\"G\", \"F\", 10)\n",
    "\n"
   ]
  },
  {
   "cell_type": "code",
   "execution_count": 2,
   "id": "fbce6bfc-cf19-46b9-a39a-886eae362016",
   "metadata": {},
   "outputs": [],
   "source": [
    "graph = {\n",
    "   \"A\": {\"B\": 3, \"C\": 3},\n",
    "   \"B\": {\"A\": 3, \"D\": 3.5, \"E\": 2.8},\n",
    "   \"C\": {\"A\": 3, \"E\": 2.8, \"F\": 3.5},\n",
    "   \"D\": {\"B\": 3.5, \"E\": 3.1, \"G\": 10},\n",
    "   \"E\": {\"B\": 2.8, \"C\": 2.8, \"D\": 3.1, \"G\": 7},\n",
    "   \"F\": {\"G\": 2.5, \"C\": 3.5},\n",
    "   \"G\": {\"F\": 2.5, \"E\": 7, \"D\": 10},\n",
    "}"
   ]
  },
  {
   "cell_type": "code",
   "execution_count": 3,
   "id": "706b08a6-6935-4788-9bbf-bcc17b6b9bee",
   "metadata": {},
   "outputs": [
    {
     "data": {
      "text/plain": [
       "{'A': {'B': 3, 'C': 3},\n",
       " 'B': {'A': 3, 'D': 3.5, 'E': 2.8},\n",
       " 'C': {'A': 3, 'E': 2.8, 'F': 3.5},\n",
       " 'D': {'B': 3.5, 'E': 3.1, 'G': 10},\n",
       " 'E': {'B': 2.8, 'C': 2.8, 'D': 3.1, 'G': 7},\n",
       " 'F': {'G': 2.5, 'C': 3.5},\n",
       " 'G': {'F': 2.5, 'E': 7, 'D': 10}}"
      ]
     },
     "execution_count": 3,
     "metadata": {},
     "output_type": "execute_result"
    }
   ],
   "source": [
    "G = Graph(graph=graph)\n",
    "\n",
    "G.graph"
   ]
  },
  {
   "cell_type": "code",
   "execution_count": 4,
   "id": "a96e020c-e4d1-4d37-92f7-b1bd76700178",
   "metadata": {},
   "outputs": [],
   "source": [
    "from heapq import heapify, heappop, heappush"
   ]
  },
  {
   "cell_type": "code",
   "execution_count": 27,
   "id": "8a2065bd-f4e0-40aa-a3c0-3f4aae79f5d0",
   "metadata": {},
   "outputs": [
    {
     "data": {
      "text/plain": [
       "(1, 'C')"
      ]
     },
     "execution_count": 27,
     "metadata": {},
     "output_type": "execute_result"
    }
   ],
   "source": [
    "pq = [(3, \"A\"), (1, \"C\"), (7, \"D\")]\n",
    "\n",
    "# Convert into a queue object\n",
    "heapify(pq)\n",
    "\n",
    "# Return the highest priority value\n",
    "heappop(pq)"
   ]
  },
  {
   "cell_type": "code",
   "execution_count": 5,
   "id": "62856e88-e6d7-48e1-b5cf-24cbed55e264",
   "metadata": {},
   "outputs": [],
   "source": [
    "G = Graph(graph)\n",
    "\n"
   ]
  },
  {
   "cell_type": "code",
   "execution_count": 7,
   "id": "12c8f9bd-7e8f-4729-ac84-1963ff972082",
   "metadata": {},
   "outputs": [
    {
     "name": "stdout",
     "output_type": "stream",
     "text": [
      "{'A': 0, 'B': 3, 'C': 3, 'D': 6.5, 'E': 5.8, 'F': 6.5, 'G': 9.0} \n",
      "\n"
     ]
    }
   ],
   "source": [
    "distances = G.shortest_distances(\"A\")\n",
    "print(distances, \"\\n\")\n",
    "\n"
   ]
  },
  {
   "cell_type": "code",
   "execution_count": 46,
   "id": "09a279d9-d0b6-480d-b847-be4401c764f8",
   "metadata": {},
   "outputs": [
    {
     "name": "stdout",
     "output_type": "stream",
     "text": [
      "The shortest distance from B to F is 9.1\n"
     ]
    }
   ],
   "source": [
    "to_F = distances[\"F\"]\n",
    "print(f\"The shortest distance from B to F is {to_F}\")"
   ]
  },
  {
   "cell_type": "code",
   "execution_count": 48,
   "id": "1351ae5c-469a-4bfc-bb5a-89a6a2584d7d",
   "metadata": {},
   "outputs": [],
   "source": [
    "class Graph:\n",
    "   def __init__(self, graph: dict = {}):\n",
    "       self.graph = graph  # A dictionary for the adjacency list\n",
    "\n",
    "   def add_edge(self, node1, node2, weight):\n",
    "       if node1 not in self.graph:  # Check if the node is already added\n",
    "           self.graph[node1] = {}  # If not, create the node\n",
    "       self.graph[node1][node2] = weight  # Else, add a connection to its neighbor\n",
    "\n",
    "   def shortest_distances(self, source: str):\n",
    "       # Initialize the values of all nodes with infinity\n",
    "       distances = {node: float(\"inf\") for node in self.graph}\n",
    "       distances[source] = 0  # Set the source value to 0\n",
    "\n",
    "       # Initialize a priority queue\n",
    "       pq = [(0, source)]\n",
    "       heapify(pq)\n",
    "\n",
    "       # Create a set to hold visited nodes\n",
    "       visited = set()\n",
    "\n",
    "       while pq:  # While the priority queue isn't empty\n",
    "           current_distance, current_node = heappop(pq)  # Get the node with the min distance\n",
    "\n",
    "           if current_node in visited:\n",
    "               continue  # Skip already visited nodes\n",
    "           visited.add(current_node)  # Else, add the node to visited set\n",
    "\n",
    "           for neighbor, weight in self.graph[current_node].items():\n",
    "               # Calculate the distance from current_node to the neighbor\n",
    "               tentative_distance = current_distance + weight\n",
    "               if tentative_distance < distances[neighbor]:\n",
    "                   distances[neighbor] = tentative_distance\n",
    "                   heappush(pq, (tentative_distance, neighbor))\n",
    "       \n",
    "       predecessors = {node: None for node in self.graph}\n",
    "\n",
    "       for node, distance in distances.items():\n",
    "           for neighbor, weight in self.graph[node].items():\n",
    "               if distances[neighbor] == distance + weight:\n",
    "                   predecessors[neighbor] = node\n",
    "\n",
    "       return distances, predecessors"
   ]
  },
  {
   "cell_type": "code",
   "execution_count": 50,
   "id": "c362b03e-510f-4f93-864d-0a419f5c04fa",
   "metadata": {},
   "outputs": [
    {
     "name": "stdout",
     "output_type": "stream",
     "text": [
      "{'A': 'B', 'B': None, 'C': 'E', 'D': 'B', 'E': 'B', 'F': 'C', 'G': 'E'}\n"
     ]
    }
   ],
   "source": [
    "G = Graph(graph)\n",
    "\n",
    "distances, predecessors = G.shortest_distances(\"B\")\n",
    "\n",
    "print(predecessors)"
   ]
  },
  {
   "cell_type": "code",
   "execution_count": 52,
   "id": "acb9fc09-24cf-486e-9793-d2881ba2860a",
   "metadata": {},
   "outputs": [],
   "source": [
    "class Graph:\n",
    "   def __init__(self, graph: dict = {}):\n",
    "       self.graph = graph  # A dictionary for the adjacency list\n",
    "\n",
    "   def add_edge(self, node1, node2, weight):\n",
    "       if node1 not in self.graph:  # Check if the node is already added\n",
    "           self.graph[node1] = {}  # If not, create the node\n",
    "       self.graph[node1][node2] = weight  # Else, add a connection to its neighbor\n",
    "\n",
    "   def shortest_distances(self, source: str):\n",
    "       # Initialize the values of all nodes with infinity\n",
    "       distances = {node: float(\"inf\") for node in self.graph}\n",
    "       distances[source] = 0  # Set the source value to 0\n",
    "\n",
    "       # Initialize a priority queue\n",
    "       pq = [(0, source)]\n",
    "       heapify(pq)\n",
    "\n",
    "       # Create a set to hold visited nodes\n",
    "       visited = set()\n",
    "\n",
    "       while pq:  # While the priority queue isn't empty\n",
    "           current_distance, current_node = heappop(pq)  # Get the node with the min distance\n",
    "\n",
    "           if current_node in visited:\n",
    "               continue  # Skip already visited nodes\n",
    "           visited.add(current_node)  # Else, add the node to visited set\n",
    "\n",
    "           for neighbor, weight in self.graph[current_node].items():\n",
    "               # Calculate the distance from current_node to the neighbor\n",
    "               tentative_distance = current_distance + weight\n",
    "               if tentative_distance < distances[neighbor]:\n",
    "                   distances[neighbor] = tentative_distance\n",
    "                   heappush(pq, (tentative_distance, neighbor))\n",
    "       \n",
    "       predecessors = {node: None for node in self.graph}\n",
    "\n",
    "       for node, distance in distances.items():\n",
    "           for neighbor, weight in self.graph[node].items():\n",
    "               if distances[neighbor] == distance + weight:\n",
    "                   predecessors[neighbor] = node\n",
    "\n",
    "       return distances, predecessors\n",
    "\n",
    "\n",
    "   def shortest_path(self, source: str, target: str):\n",
    "       # Generate the predecessors dict\n",
    "       _, predecessors = self.shortest_distances(source)\n",
    "\n",
    "       path = []\n",
    "       current_node = target\n",
    "\n",
    "       # Backtrack from the target node using predecessors\n",
    "       while current_node:\n",
    "           path.append(current_node)\n",
    "           current_node = predecessors[current_node]\n",
    "\n",
    "       # Reverse the path and return it\n",
    "       path.reverse()\n",
    "\n",
    "       return path"
   ]
  },
  {
   "cell_type": "code",
   "execution_count": 54,
   "id": "e697146c-24cf-4075-af32-c774f94e5f1e",
   "metadata": {},
   "outputs": [
    {
     "data": {
      "text/plain": [
       "['B', 'E', 'C', 'F']"
      ]
     },
     "execution_count": 54,
     "metadata": {},
     "output_type": "execute_result"
    }
   ],
   "source": [
    "G = Graph(graph)\n",
    "\n",
    "G.shortest_path(\"B\", \"F\")"
   ]
  },
  {
   "cell_type": "code",
   "execution_count": 56,
   "id": "4a155124-6f5c-49e2-8822-6a5b21c69219",
   "metadata": {},
   "outputs": [
    {
     "data": {
      "text/plain": [
       "['A', 'C', 'F', 'G']"
      ]
     },
     "execution_count": 56,
     "metadata": {},
     "output_type": "execute_result"
    }
   ],
   "source": [
    "G.shortest_path(\"A\", \"G\")"
   ]
  },
  {
   "cell_type": "code",
   "execution_count": null,
   "id": "6912391a-fbea-4abd-ae09-3ee270f7baf1",
   "metadata": {},
   "outputs": [],
   "source": []
  }
 ],
 "metadata": {
  "kernelspec": {
   "display_name": "Python 3 (ipykernel)",
   "language": "python",
   "name": "python3"
  },
  "language_info": {
   "codemirror_mode": {
    "name": "ipython",
    "version": 3
   },
   "file_extension": ".py",
   "mimetype": "text/x-python",
   "name": "python",
   "nbconvert_exporter": "python",
   "pygments_lexer": "ipython3",
   "version": "3.9.13"
  }
 },
 "nbformat": 4,
 "nbformat_minor": 5
}
