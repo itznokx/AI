{
  "metadata": {
    "kernelspec": {
      "name": "python",
      "display_name": "Python (Pyodide)",
      "language": "python"
    },
    "language_info": {
      "codemirror_mode": {
        "name": "python",
        "version": 3
      },
      "file_extension": ".py",
      "mimetype": "text/x-python",
      "name": "python",
      "nbconvert_exporter": "python",
      "pygments_lexer": "ipython3",
      "version": "3.8"
    }
  },
  "nbformat_minor": 5,
  "nbformat": 4,
  "cells": [
    {
      "id": "01413de6-46aa-42ca-a58c-e439ab2bc724",
      "cell_type": "markdown",
      "source": "# Exercício 01: Missão de Reconhecimento Aéreo\nUm avião de reconhecimento precisa sobrevoar 5 alvos estratégicos em território hostil, partindo e retornando à base aérea. Cada alvo possui um nível de risco associado à presença de defesas antiaéreas.\n## Objetivo\nEncontrar a rota que minimize o custo total da missão, considerando:\nDistância percorrida (consumo de combustível)\nRisco acumulado ao sobrevoar cada alvo\n## Dados do Problema\n### 1. Matriz de Distâncias (km)\n     Base  Radar  Ponte  Depósito  Porto  Fábrica\nBase    0     45     30      50      65     40\nRadar   45    0      55      40      60     35\nPonte   30    55     0       25      40     45\nDepósito 50   40     25      0       30     50\nPorto   65    60     40      30      0      25\nFábrica 40    35     45      50      25     0\n### 2. Níveis de Risco dos Alvos\nBase Aérea: 0 (seguro)\nRadar Inimigo: 8 (alto risco)\nPonte Estratégica: 3 (baixo risco)\nDepósito de Armas: 5 (médio risco)\nPorto Militar: 6 (médio risco)\nFábrica de Munições: 4 (baixo risco)\n### 3. Especificações da Aeronave\nConsumo: 2 litros/km\nCapacidade do tanque: 500 litros\nFunção de Custo\nCusto Total = Distância Total + (Soma dos Riscos × 5)\n## Tarefas\n### Implemente a classe MissaoAerea herdando de ProblemInterface com os métodos:\ngerar_individuo(): Gera uma rota aleatória começando na base (índice 0)\ncalcular_fitness(): Fitness = 1 / Custo Total\ncrossover(): Implementar crossover preservando a base no início\nmutacao(): Implementar mutação sem mover a base\n\n\n## Execute o algoritmo genético e responda:\n### Qual a melhor rota encontrada?\n### Qual o custo total dessa rota?\n### A missão é viável com o combustível disponível?\n### Plote o gráfico de custo.\n# Exemplo de Estrutura de Dados\npython\n## Índices dos locais\nINDICES = {\n    0: \"Base Aérea\",\n    1: \"Radar Inimigo\", \n    2: \"Ponte Estratégica\",\n    3: \"Depósito de Armas\",\n    4: \"Porto Militar\",\n    5: \"Fábrica de Munições\"\n}\n\n## Matriz de distâncias\nDISTANCIAS = [\n    [0,  45, 30, 50, 65, 40],\n    [45, 0,  55, 40, 60, 35],\n    [30, 55, 0,  25, 40, 45],\n    [50, 40, 25, 0,  30, 50],\n    [65, 60, 40, 30, 0,  25],\n    [40, 35, 45, 50, 25, 0]\n]\n\nNíveis de risco\nRISCOS = [0, 8, 3, 5, 6, 4]\nDicas\nA rota sempre deve começar no índice 0 (Base)\nLembre-se de adicionar o retorno à base no cálculo do custo\nUse Order Crossover para manter rotas válidas\nVerifique se o combustível necessário não excede a capacidade\n",
      "metadata": {}
    },
    {
      "id": "cdac3b07-7bb0-4a0c-9799-9104882fb071",
      "cell_type": "code",
      "source": "from abc import ABC, abstractmethod\n\nclass ProblemInterface(ABC):\n    \"\"\"Interface que define as operações específicas do problema\"\"\"\n    \n    @abstractmethod\n    def gerar_individuo(self):\n        \"\"\"Gera um indivíduo aleatório\"\"\"\n        pass\n    \n    @abstractmethod\n    def calcular_fitness(self, individuo):\n        \"\"\"Calcula o fitness de um indivíduo\"\"\"\n        pass\n    \n    @abstractmethod\n    def crossover(self, pai1, pai2):\n        \"\"\"Realiza crossover entre dois pais\"\"\"\n        pass\n    \n    @abstractmethod\n    def mutacao(self, individuo, taxa_mutacao):\n        \"\"\"Aplica mutação em um indivíduo\"\"\"\n        pass\n",
      "metadata": {
        "trusted": true
      },
      "outputs": [],
      "execution_count": 6
    },
    {
      "id": "6ec696e1-f5de-422c-816a-0aa2aea5563d",
      "cell_type": "code",
      "source": "INDICES = {\n    0: \"Base Aérea\",\n    1: \"Radar Inimigo\", \n    2: \"Ponte Estratégica\",\n    3: \"Depósito de Armas\",\n    4: \"Porto Militar\",\n    5: \"Fábrica de Munições\"\n}\n# Matriz de distâncias\nDISTANCIAS = [\n    [0,  45, 30, 50, 65, 40],\n    [45, 0,  55, 40, 60, 35],\n    [30, 55, 0,  25, 40, 45],\n    [50, 40, 25, 0,  30, 50],\n    [65, 60, 40, 30, 0,  25],\n    [40, 35, 45, 50, 25, 0]\n]\nRISCOS = [0, 8, 3, 5, 6, 4]\nINDICES = [0,1,2,3,4,5]",
      "metadata": {
        "trusted": true
      },
      "outputs": [],
      "execution_count": 36
    },
    {
      "id": "6c92fc61-8fc0-46d7-be2d-a7fee9065a9a",
      "cell_type": "code",
      "source": "import random as rng\n\nclass MissaoAerea (ProblemInterface):\n    def __init__ (self,consume,tank_capacity,index,distances,risks,keys = [0,1,2,3,4,5]):\n        self.consumo = consume\n        self.capacidade_tanque = tank_capacity\n        self.indices = index\n        self.distancias = distances\n        self.riscos = risks\n        self.chaves = keys\n    def gerar_individuo(self):\n        aux = list()\n        for k in self.indices.keys():\n            aux.append(k)\n        gene = list()\n        gene.append (aux.pop(0))\n        rng.shuffle(aux)\n        for x in aux:\n            gene.append(x)\n        return gene\n    def calcular_fitness(self, individuo):\n        pass\n    def custo_total(self, individuo) -> float:\n        custo_total = 0;\n        old = 0;\n        for x in individuo:\n            custo_total += self.distancias[old][x]\n            old = x\n        return (custo_total*2)\n    def crossover(self, pai1, pai2):\n        pass\n    def mutacao(self, individuo, taxa_mutacao):\n        pass\n",
      "metadata": {
        "trusted": true
      },
      "outputs": [],
      "execution_count": 62
    },
    {
      "id": "e805811f-634b-4cb5-a7f0-bafcfb515c4e",
      "cell_type": "code",
      "source": "def main():\n    m1 = MissaoAerea(2,500,INDICES,DISTANCIAS,RISCOS)\n    for n in range (100):\n        aux1 = m1.gerar_individuo()\n        aux2 = m1.custo_total(aux1)\n        print(f'Individuo: {aux1}, Fitness:{aux2}, Custo_total: {aux2*m1.consumo}')\nmain()",
      "metadata": {
        "trusted": true
      },
      "outputs": [
        {
          "name": "stdout",
          "output_type": "stream",
          "text": "Individuo: [0, 1, 5, 2, 4, 3], Fitness:390, Custo_total: 780\nIndividuo: [0, 2, 3, 4, 1, 5], Fitness:360, Custo_total: 720\nIndividuo: [0, 3, 5, 4, 2, 1], Fitness:440, Custo_total: 880\nIndividuo: [0, 5, 2, 4, 1, 3], Fitness:450, Custo_total: 900\nIndividuo: [0, 2, 3, 5, 1, 4], Fitness:400, Custo_total: 800\nIndividuo: [0, 5, 2, 4, 3, 1], Fitness:390, Custo_total: 780\nIndividuo: [0, 2, 3, 5, 4, 1], Fitness:380, Custo_total: 760\nIndividuo: [0, 1, 2, 3, 4, 5], Fitness:360, Custo_total: 720\nIndividuo: [0, 4, 2, 1, 5, 3], Fitness:490, Custo_total: 980\nIndividuo: [0, 3, 1, 2, 4, 5], Fitness:420, Custo_total: 840\nIndividuo: [0, 3, 4, 5, 2, 1], Fitness:410, Custo_total: 820\nIndividuo: [0, 2, 5, 4, 3, 1], Fitness:340, Custo_total: 680\nIndividuo: [0, 5, 1, 4, 3, 2], Fitness:380, Custo_total: 760\nIndividuo: [0, 2, 4, 3, 1, 5], Fitness:350, Custo_total: 700\nIndividuo: [0, 2, 3, 1, 5, 4], Fitness:310, Custo_total: 620\nIndividuo: [0, 4, 2, 5, 1, 3], Fitness:450, Custo_total: 900\nIndividuo: [0, 4, 5, 2, 1, 3], Fitness:460, Custo_total: 920\nIndividuo: [0, 4, 3, 1, 2, 5], Fitness:470, Custo_total: 940\nIndividuo: [0, 3, 5, 4, 1, 2], Fitness:480, Custo_total: 960\nIndividuo: [0, 3, 4, 2, 5, 1], Fitness:400, Custo_total: 800\nIndividuo: [0, 1, 3, 5, 2, 4], Fitness:440, Custo_total: 880\nIndividuo: [0, 4, 1, 5, 3, 2], Fitness:470, Custo_total: 940\nIndividuo: [0, 2, 3, 5, 4, 1], Fitness:380, Custo_total: 760\nIndividuo: [0, 3, 2, 1, 5, 4], Fitness:380, Custo_total: 760\nIndividuo: [0, 5, 4, 3, 2, 1], Fitness:350, Custo_total: 700\nIndividuo: [0, 1, 5, 4, 3, 2], Fitness:320, Custo_total: 640\nIndividuo: [0, 4, 2, 5, 1, 3], Fitness:450, Custo_total: 900\nIndividuo: [0, 1, 4, 5, 2, 3], Fitness:400, Custo_total: 800\nIndividuo: [0, 3, 5, 2, 1, 4], Fitness:520, Custo_total: 1040\nIndividuo: [0, 5, 2, 4, 1, 3], Fitness:450, Custo_total: 900\nIndividuo: [0, 5, 2, 1, 3, 4], Fitness:420, Custo_total: 840\nIndividuo: [0, 3, 2, 5, 1, 4], Fitness:430, Custo_total: 860\nIndividuo: [0, 3, 4, 5, 2, 1], Fitness:410, Custo_total: 820\nIndividuo: [0, 3, 4, 5, 2, 1], Fitness:410, Custo_total: 820\nIndividuo: [0, 1, 3, 2, 5, 4], Fitness:360, Custo_total: 720\nIndividuo: [0, 5, 2, 1, 4, 3], Fitness:460, Custo_total: 920\nIndividuo: [0, 3, 2, 4, 5, 1], Fitness:350, Custo_total: 700\nIndividuo: [0, 1, 2, 5, 3, 4], Fitness:450, Custo_total: 900\nIndividuo: [0, 1, 4, 3, 2, 5], Fitness:410, Custo_total: 820\nIndividuo: [0, 5, 3, 2, 4, 1], Fitness:430, Custo_total: 860\nIndividuo: [0, 5, 4, 1, 3, 2], Fitness:380, Custo_total: 760\nIndividuo: [0, 2, 5, 3, 4, 1], Fitness:430, Custo_total: 860\nIndividuo: [0, 4, 5, 3, 2, 1], Fitness:440, Custo_total: 880\nIndividuo: [0, 4, 1, 3, 5, 2], Fitness:520, Custo_total: 1040\nIndividuo: [0, 4, 3, 2, 5, 1], Fitness:400, Custo_total: 800\nIndividuo: [0, 3, 1, 5, 4, 2], Fitness:380, Custo_total: 760\nIndividuo: [0, 5, 2, 3, 4, 1], Fitness:400, Custo_total: 800\nIndividuo: [0, 5, 1, 3, 4, 2], Fitness:370, Custo_total: 740\nIndividuo: [0, 4, 3, 1, 2, 5], Fitness:470, Custo_total: 940\nIndividuo: [0, 2, 5, 4, 1, 3], Fitness:400, Custo_total: 800\nIndividuo: [0, 3, 1, 2, 5, 4], Fitness:430, Custo_total: 860\nIndividuo: [0, 4, 2, 1, 5, 3], Fitness:490, Custo_total: 980\nIndividuo: [0, 2, 5, 3, 1, 4], Fitness:450, Custo_total: 900\nIndividuo: [0, 3, 5, 2, 1, 4], Fitness:520, Custo_total: 1040\nIndividuo: [0, 3, 2, 4, 1, 5], Fitness:420, Custo_total: 840\nIndividuo: [0, 4, 2, 3, 5, 1], Fitness:430, Custo_total: 860\nIndividuo: [0, 4, 5, 3, 1, 2], Fitness:470, Custo_total: 940\nIndividuo: [0, 4, 2, 1, 5, 3], Fitness:490, Custo_total: 980\nIndividuo: [0, 1, 4, 2, 5, 3], Fitness:480, Custo_total: 960\nIndividuo: [0, 1, 2, 5, 4, 3], Fitness:400, Custo_total: 800\nIndividuo: [0, 5, 2, 1, 3, 4], Fitness:420, Custo_total: 840\nIndividuo: [0, 4, 5, 3, 2, 1], Fitness:440, Custo_total: 880\nIndividuo: [0, 1, 3, 4, 2, 5], Fitness:400, Custo_total: 800\nIndividuo: [0, 4, 5, 2, 3, 1], Fitness:400, Custo_total: 800\nIndividuo: [0, 2, 1, 5, 4, 3], Fitness:350, Custo_total: 700\nIndividuo: [0, 3, 4, 5, 1, 2], Fitness:390, Custo_total: 780\nIndividuo: [0, 2, 1, 3, 4, 5], Fitness:360, Custo_total: 720\nIndividuo: [0, 5, 4, 1, 3, 2], Fitness:380, Custo_total: 760\nIndividuo: [0, 3, 2, 5, 4, 1], Fitness:410, Custo_total: 820\nIndividuo: [0, 2, 5, 3, 1, 4], Fitness:450, Custo_total: 900\nIndividuo: [0, 4, 3, 2, 1, 5], Fitness:420, Custo_total: 840\nIndividuo: [0, 1, 5, 4, 2, 3], Fitness:340, Custo_total: 680\nIndividuo: [0, 1, 4, 3, 5, 2], Fitness:460, Custo_total: 920\nIndividuo: [0, 4, 1, 5, 3, 2], Fitness:470, Custo_total: 940\nIndividuo: [0, 1, 2, 3, 4, 5], Fitness:360, Custo_total: 720\nIndividuo: [0, 5, 1, 4, 2, 3], Fitness:400, Custo_total: 800\nIndividuo: [0, 4, 3, 1, 2, 5], Fitness:470, Custo_total: 940\nIndividuo: [0, 4, 5, 2, 1, 3], Fitness:460, Custo_total: 920\nIndividuo: [0, 3, 2, 4, 1, 5], Fitness:420, Custo_total: 840\nIndividuo: [0, 4, 3, 1, 2, 5], Fitness:470, Custo_total: 940\nIndividuo: [0, 3, 2, 4, 1, 5], Fitness:420, Custo_total: 840\nIndividuo: [0, 1, 5, 3, 2, 4], Fitness:390, Custo_total: 780\nIndividuo: [0, 1, 3, 2, 4, 5], Fitness:350, Custo_total: 700\nIndividuo: [0, 3, 4, 5, 1, 2], Fitness:390, Custo_total: 780\nIndividuo: [0, 1, 3, 4, 5, 2], Fitness:370, Custo_total: 740\nIndividuo: [0, 4, 5, 2, 3, 1], Fitness:400, Custo_total: 800\nIndividuo: [0, 4, 3, 5, 1, 2], Fitness:470, Custo_total: 940\nIndividuo: [0, 1, 5, 2, 3, 4], Fitness:360, Custo_total: 720\nIndividuo: [0, 3, 1, 5, 4, 2], Fitness:380, Custo_total: 760\nIndividuo: [0, 4, 5, 2, 3, 1], Fitness:400, Custo_total: 800\nIndividuo: [0, 4, 2, 5, 1, 3], Fitness:450, Custo_total: 900\nIndividuo: [0, 4, 3, 1, 5, 2], Fitness:430, Custo_total: 860\nIndividuo: [0, 3, 1, 4, 2, 5], Fitness:470, Custo_total: 940\nIndividuo: [0, 2, 4, 1, 3, 5], Fitness:440, Custo_total: 880\nIndividuo: [0, 5, 2, 3, 1, 4], Fitness:420, Custo_total: 840\nIndividuo: [0, 2, 1, 5, 3, 4], Fitness:400, Custo_total: 800\nIndividuo: [0, 5, 2, 4, 3, 1], Fitness:390, Custo_total: 780\nIndividuo: [0, 2, 5, 1, 4, 3], Fitness:400, Custo_total: 800\nIndividuo: [0, 4, 3, 5, 2, 1], Fitness:490, Custo_total: 980\nIndividuo: [0, 5, 3, 4, 2, 1], Fitness:430, Custo_total: 860\n"
        }
      ],
      "execution_count": 64
    }
  ]
}
