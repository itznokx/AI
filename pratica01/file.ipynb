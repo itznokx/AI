{
  "metadata": {
    "kernelspec": {
      "name": "python",
      "display_name": "Python (Pyodide)",
      "language": "python"
    },
    "language_info": {
      "codemirror_mode": {
        "name": "python",
        "version": 3
      },
      "file_extension": ".py",
      "mimetype": "text/x-python",
      "name": "python",
      "nbconvert_exporter": "python",
      "pygments_lexer": "ipython3",
      "version": "3.8"
    }
  },
  "nbformat_minor": 5,
  "nbformat": 4,
  "cells": [
    {
      "id": "01413de6-46aa-42ca-a58c-e439ab2bc724",
      "cell_type": "markdown",
      "source": "# Exercício 01: Missão de Reconhecimento Aéreo\nUm avião de reconhecimento precisa sobrevoar 5 alvos estratégicos em território hostil, partindo e retornando à base aérea. Cada alvo possui um nível de risco associado à presença de defesas antiaéreas.\n## Objetivo\nEncontrar a rota que minimize o custo total da missão, considerando:\nDistância percorrida (consumo de combustível)\nRisco acumulado ao sobrevoar cada alvo\n## Dados do Problema\n### 1. Matriz de Distâncias (km)\n     Base  Radar  Ponte  Depósito  Porto  Fábrica\nBase    0     45     30      50      65     40\nRadar   45    0      55      40      60     35\nPonte   30    55     0       25      40     45\nDepósito 50   40     25      0       30     50\nPorto   65    60     40      30      0      25\nFábrica 40    35     45      50      25     0\n### 2. Níveis de Risco dos Alvos\nBase Aérea: 0 (seguro)\nRadar Inimigo: 8 (alto risco)\nPonte Estratégica: 3 (baixo risco)\nDepósito de Armas: 5 (médio risco)\nPorto Militar: 6 (médio risco)\nFábrica de Munições: 4 (baixo risco)\n### 3. Especificações da Aeronave\nConsumo: 2 litros/km\nCapacidade do tanque: 500 litros\nFunção de Custo\nCusto Total = Distância Total + (Soma dos Riscos × 5)\n## Tarefas\n### Implemente a classe MissaoAerea herdando de ProblemInterface com os métodos:\ngerar_individuo(): Gera uma rota aleatória começando na base (índice 0)\ncalcular_fitness(): Fitness = 1 / Custo Total\ncrossover(): Implementar crossover preservando a base no início\nmutacao(): Implementar mutação sem mover a base\n\n\n## Execute o algoritmo genético e responda:\n### Qual a melhor rota encontrada?\n### Qual o custo total dessa rota?\n### A missão é viável com o combustível disponível?\n### Plote o gráfico de custo.\n# Exemplo de Estrutura de Dados\npython\n## Índices dos locais\nINDICES = {\n    0: \"Base Aérea\",\n    1: \"Radar Inimigo\", \n    2: \"Ponte Estratégica\",\n    3: \"Depósito de Armas\",\n    4: \"Porto Militar\",\n    5: \"Fábrica de Munições\"\n}\n\n## Matriz de distâncias\nDISTANCIAS = [\n    [0,  45, 30, 50, 65, 40],\n    [45, 0,  55, 40, 60, 35],\n    [30, 55, 0,  25, 40, 45],\n    [50, 40, 25, 0,  30, 50],\n    [65, 60, 40, 30, 0,  25],\n    [40, 35, 45, 50, 25, 0]\n]\n\nNíveis de risco\nRISCOS = [0, 8, 3, 5, 6, 4]\nDicas\nA rota sempre deve começar no índice 0 (Base)\nLembre-se de adicionar o retorno à base no cálculo do custo\nUse Order Crossover para manter rotas válidas\nVerifique se o combustível necessário não excede a capacidade\n",
      "metadata": {}
    },
    {
      "id": "9e06dd2e-f49a-44eb-af50-669e73da473f",
      "cell_type": "code",
      "source": "import random as rng\nimport matplotlib.pyplot as plt\nfrom abc import ABC, abstractmethod",
      "metadata": {
        "trusted": true
      },
      "outputs": [
        {
          "name": "stderr",
          "output_type": "stream",
          "text": "Matplotlib is building the font cache; this may take a moment.\n"
        }
      ],
      "execution_count": 20
    },
    {
      "id": "cdac3b07-7bb0-4a0c-9799-9104882fb071",
      "cell_type": "code",
      "source": "\n\nclass ProblemInterface(ABC):\n    \"\"\"Interface que define as operações específicas do problema\"\"\"\n    \n    @abstractmethod\n    def gerar_individuo(self):\n        \"\"\"Gera um indivíduo aleatório\"\"\"\n        pass\n    \n    @abstractmethod\n    def calcular_fitness(self, individuo):\n        \"\"\"Calcula o fitness de um indivíduo\"\"\"\n        pass\n    \n    @abstractmethod\n    def crossover(self, pai1, pai2):\n        \"\"\"Realiza crossover entre dois pais\"\"\"\n        pass\n    \n    @abstractmethod\n    def mutacao(self, individuo, taxa_mutacao):\n        \"\"\"Aplica mutação em um indivíduo\"\"\"\n        pass\n",
      "metadata": {
        "trusted": true
      },
      "outputs": [],
      "execution_count": 21
    },
    {
      "id": "6ec696e1-f5de-422c-816a-0aa2aea5563d",
      "cell_type": "code",
      "source": "INDICES = {\n    0: \"Base Aérea\",\n    1: \"Radar Inimigo\", \n    2: \"Ponte Estratégica\",\n    3: \"Depósito de Armas\",\n    4: \"Porto Militar\",\n    5: \"Fábrica de Munições\"\n}\n# Matriz de distâncias\nDISTANCIAS = [\n    [0,  45, 30, 50, 65, 40],\n    [45, 0,  55, 40, 60, 35],\n    [30, 55, 0,  25, 40, 45],\n    [50, 40, 25, 0,  30, 50],\n    [65, 60, 40, 30, 0,  25],\n    [40, 35, 45, 50, 25, 0]\n]\nRISCOS = [0, 8, 3, 5, 6, 4]\nCONSUMO_POR_KM = 2\nCAPACIDADE_TANQUE = 500",
      "metadata": {
        "trusted": true
      },
      "outputs": [],
      "execution_count": 22
    },
    {
      "id": "72466e08-8157-4836-9e10-e5fc50b81fbf",
      "cell_type": "code",
      "source": "class MissaoAerea(ProblemInterface):\n    def __init__ (self,consume,tank_capacity,index,distances,risks):\n        self.consumo_por_km = consume\n        self.capacidade_tanque = tank_capacity\n        self.indices = index\n        self.distancias = distances\n        self.riscos = risks\n        self.chaves = list(index.keys())\n\n    def gerar_individuo(self):\n        caminho = list(range(1, len(self.chaves)))  # Alvos (exceto a base)\n        rng.shuffle(caminho)\n        return [0] + caminho + [0]\n   \n    def calcular_custo(self, individuo) -> float: #Calcula custo total (distancia_total + 5x risco_total) e a distancia\n        distancia_total = 0;\n        riscos_soma = 0;\n        old = 0;\n        for x in individuo:\n            distancia_total += self.distancias[old][x]\n            riscos_soma += self.riscos[x]\n            old = x\n        return (distancia_total+(riscos_soma*5)),distancia_total\n    def calcular_fitness(self, individuo):\n        custo_total, _ = self.calcular_custo(individuo)\n        if (custo_total > 0):\n            return 1/custo_total\n        else:\n            return float(inf)\n    \n    def fill_offspring(self,offspring_target_middle, parent_source_middle, mapping_dict_source_to_target,cut1,cut2,size):\n        copied_segment_values = set(offspring_target_middle[cut1:cut2])\n        for i in range(size):\n            if i < cut1 or i >= cut2:\n                gene_padrao = parent_source_middle[i]\n\n                geracao_atual = gene_padrao\n                while geracao_atual in copied_segment_values:\n                    if geracao_atual in mapping_dict_source_to_target:\n                        geracao_atual = mapping_dict_source_to_target[geracao_atual]\n                    else:\n                        break\n                offspring_target_middle[i] = geracao_atual\n        return offspring_target_middle\n    def crossover(self, parent1, parent2):\n        size = len(parent1) - 2 # Exclui a base do início e do fim\n        p1_meio = parent1[1:-1]\n        p2_meio = parent2[1:-1]\n\n        offspring1_meio = [None] * size\n        offspring2_meio = [None] * size\n\n        cut1, cut2 = sorted(rng.sample(range(size), 2))\n\n        offspring1_meio[cut1:cut2] = p1_meio[cut1:cut2]\n        offspring2_meio[cut1:cut2] = p2_meio[cut1:cut2]\n\n        map_p1_to_p2 = {p1_meio[i]: p2_meio[i] for i in range(cut1, cut2)}\n        map_p2_to_p1 = {p2_meio[i]: p1_meio[i] for i in range(cut1, cut2)}\n\n    \n        offspring1_meio = self.fill_offspring(offspring1_meio, p2_meio, map_p2_to_p1,cut1,cut2,size)\n        offspring2_meio = self.fill_offspring(offspring2_meio, p1_meio, map_p1_to_p2,cut1,cut2,size)\n    \n        return [0] + offspring1_meio + [0], [0] + offspring2_meio + [0]\n    def mutacao(self, individuo, taxa_mutacao):\n        if rng.rng() < taxa_mutacao:\n            # Não mutar a base (índice 0 e último)\n            indices_mutaveis = list(range(1, len(individuo) - 1))\n            if len(indices_mutaveis) >= 2:\n                idx1, idx2 = rng.sample(indices_mutaveis, 2)\n                individuo[idx1], individuo[idx2] = individuo[idx2], individuo[idx1]\n        return individuo",
      "metadata": {
        "trusted": true
      },
      "outputs": [],
      "execution_count": 49
    },
    {
      "id": "4f1bcef1",
      "cell_type": "code",
      "source": "class AlgoritmoGenetico:\n    def __init__(self, problema, tamanho_populacao, geracoes, taxa_crossover, taxa_mutacao):\n        self.problema = problema\n        self.tamanho_populacao = tamanho_populacao\n        self.geracoes = geracoes\n        self.taxa_crossover = taxa_crossover\n        self.taxa_mutacao = taxa_mutacao\n        self.melhores_custos_por_geracao = []\n\n    def _selecionar(self, populacao, fitnesses):\n        \"\"\"Seleção por roleta.\"\"\"\n        total_fitness = sum(fitnesses)\n        if total_fitness == 0:\n            # If all fitness are zero (e.g., very high costs), select randomly\n            return random.choice(populacao)\n        \n        pick = rng.uniform(0, total_fitness)\n        current = 0\n        for individuo, fitness in zip(populacao, fitnesses):\n            current += fitness\n            if current > pick:\n                return individuo\n        return random.choice(populacao) # Fallback\n\n    def executar(self):\n        populacao = [self.problema.gerar_individuo() for _ in range(self.tamanho_populacao)]\n        melhor_individuo = None\n        melhor_custo = float('inf')\n\n        for geracao in range(self.geracoes):\n            fitnesses = [self.problema.calcular_fitness(ind) for ind in populacao]\n            \n            # Encontra o melhor da geração atual\n            melhor_fitness_geracao = -1\n            melhor_individuo_geracao = None\n            for i, individuo in enumerate(populacao):\n                if fitnesses[i] > melhor_fitness_geracao:\n                    melhor_fitness_geracao = fitnesses[i]\n                    melhor_individuo_geracao = individuo\n            \n            custo_melhor_geracao, _ = self.problema.calcular_custo(melhor_individuo_geracao)\n            self.melhores_custos_por_geracao.append(custo_melhor_geracao)\n\n            if custo_melhor_geracao < melhor_custo:\n                melhor_custo = custo_melhor_geracao\n                melhor_individuo = melhor_individuo_geracao\n\n            nova_populacao = []\n            while len(nova_populacao) < self.tamanho_populacao:\n                pai1 = self._selecionar(populacao, fitnesses)\n                pai2 = self._selecionar(populacao, fitnesses)\n\n                if rng.random() < self.taxa_crossover:\n                    filho1, filho2 = self.problema.crossover(pai1, pai2)\n                else:\n                    filho1, filho2 = pai1, pai2\n\n                filho1 = self.problema.mutacao(filho1, self.taxa_mutacao)\n                filho2 = self.problema.mutacao(filho2, self.taxa_mutacao)\n\n                nova_populacao.append(filho1)\n                if len(nova_populacao) < self.tamanho_populacao:\n                    nova_populacao.append(filho2)\n\n            populacao = nova_populacao\n\n        return melhor_individuo, melhor_custo",
      "metadata": {
        "trusted": true
      },
      "outputs": [],
      "execution_count": 50
    },
    {
      "id": "e805811f-634b-4cb5-a7f0-bafcfb515c4e",
      "cell_type": "code",
      "source": "TAMANHO_POPULACAO=100\nGERACOES=500\nTAXA_CROSSOVER=0.8\nTAXA_MUTACAO=0.1\n\ndef main():\n    m1 = MissaoAerea(CONSUMO_POR_KM,CAPACIDADE_TANQUE,INDICES,DISTANCIAS,RISCOS)\n    ag = AlgoritmoGenetico(m1,TAMANHO_POPULACAO,GERACOES,TAXA_CROSSOVER,TAXA_MUTACAO)\n    print(\"Resultados da Missao Aerea:\")\n    melhor_rota_indices, custo_total_rota = ag.executar()\n    melhor_rota_nomes = [m1.indices[i] for i in melhor_rota_indices]\n    _, distancia_total_rota = m1.calcular_custo(melhor_rota_indices)\n    consumo_rota = distancia_total_rota * m1.consumo_por_km\n    print(f\"Melhor rota encontrada (índices): {melhor_rota_indices}\")\n    print(f\"Melhor rota encontrada (nomes): {melhor_rota_nomes}\")\n    print(f\"Custo total dessa rota: {custo_total_rota:.2f}\")\n    print(f\"Distância total percorrida: {distancia_total_rota:.2f} km\")\n    print(f\"Consumo de combustível da rota: {consumo_rota:.2f} litros\")\n    print(f\"Capacidade do tanque: {m1.capacidade_tanque} litros\")\n    print(f\"A missão é viável com o combustível disponível? {'Sim' if (consumo_rota <= m1.capacidade_tanque) else 'Não'}\")\n    # Plotar gráfico de custo\n    plt.figure(figsize=(10, 6))\n    plt.plot(ag.melhores_custos_por_geracao)\n    plt.title('Melhor Custo por Geração')\n    plt.xlabel('Geração')\n    plt.ylabel('Custo Total')\n    plt.grid(True)\n    plt.show()\nmain()\n",
      "metadata": {
        "trusted": true
      },
      "outputs": [
        {
          "name": "stdout",
          "output_type": "stream",
          "text": "Resultados da Missao Aerea:\n"
        },
        {
          "ename": "<class 'NameError'>",
          "evalue": "name 'size' is not defined",
          "traceback": [
            "\u001b[0;31m---------------------------------------------------------------------------\u001b[0m",
            "\u001b[0;31mNameError\u001b[0m                                 Traceback (most recent call last)",
            "Cell \u001b[0;32mIn[48], line 29\u001b[0m\n\u001b[1;32m     27\u001b[0m     plt\u001b[38;5;241m.\u001b[39mgrid(\u001b[38;5;28;01mTrue\u001b[39;00m)\n\u001b[1;32m     28\u001b[0m     plt\u001b[38;5;241m.\u001b[39mshow()\n\u001b[0;32m---> 29\u001b[0m \u001b[43mmain\u001b[49m\u001b[43m(\u001b[49m\u001b[43m)\u001b[49m\n",
            "Cell \u001b[0;32mIn[48], line 10\u001b[0m, in \u001b[0;36mmain\u001b[0;34m()\u001b[0m\n\u001b[1;32m      8\u001b[0m ag \u001b[38;5;241m=\u001b[39m AlgoritmoGenetico(m1,TAMANHO_POPULACAO,GERACOES,TAXA_CROSSOVER,TAXA_MUTACAO)\n\u001b[1;32m      9\u001b[0m \u001b[38;5;28mprint\u001b[39m(\u001b[38;5;124m\"\u001b[39m\u001b[38;5;124mResultados da Missao Aerea:\u001b[39m\u001b[38;5;124m\"\u001b[39m)\n\u001b[0;32m---> 10\u001b[0m melhor_rota_indices, custo_total_rota \u001b[38;5;241m=\u001b[39m \u001b[43mag\u001b[49m\u001b[38;5;241;43m.\u001b[39;49m\u001b[43mexecutar\u001b[49m\u001b[43m(\u001b[49m\u001b[43m)\u001b[49m\n\u001b[1;32m     11\u001b[0m melhor_rota_nomes \u001b[38;5;241m=\u001b[39m [m1\u001b[38;5;241m.\u001b[39mindices[i] \u001b[38;5;28;01mfor\u001b[39;00m i \u001b[38;5;129;01min\u001b[39;00m melhor_rota_indices]\n\u001b[1;32m     12\u001b[0m _, distancia_total_rota \u001b[38;5;241m=\u001b[39m m1\u001b[38;5;241m.\u001b[39mcalcular_custo(melhor_rota_indices)\n",
            "Cell \u001b[0;32mIn[47], line 54\u001b[0m, in \u001b[0;36mAlgoritmoGenetico.executar\u001b[0;34m(self)\u001b[0m\n\u001b[1;32m     51\u001b[0m pai2 \u001b[38;5;241m=\u001b[39m \u001b[38;5;28mself\u001b[39m\u001b[38;5;241m.\u001b[39m_selecionar(populacao, fitnesses)\n\u001b[1;32m     53\u001b[0m \u001b[38;5;28;01mif\u001b[39;00m rng\u001b[38;5;241m.\u001b[39mrandom() \u001b[38;5;241m<\u001b[39m \u001b[38;5;28mself\u001b[39m\u001b[38;5;241m.\u001b[39mtaxa_crossover:\n\u001b[0;32m---> 54\u001b[0m     filho1, filho2 \u001b[38;5;241m=\u001b[39m \u001b[38;5;28;43mself\u001b[39;49m\u001b[38;5;241;43m.\u001b[39;49m\u001b[43mproblema\u001b[49m\u001b[38;5;241;43m.\u001b[39;49m\u001b[43mcrossover\u001b[49m\u001b[43m(\u001b[49m\u001b[43mpai1\u001b[49m\u001b[43m,\u001b[49m\u001b[43m \u001b[49m\u001b[43mpai2\u001b[49m\u001b[43m)\u001b[49m\n\u001b[1;32m     55\u001b[0m \u001b[38;5;28;01melse\u001b[39;00m:\n\u001b[1;32m     56\u001b[0m     filho1, filho2 \u001b[38;5;241m=\u001b[39m pai1, pai2\n",
            "Cell \u001b[0;32mIn[46], line 62\u001b[0m, in \u001b[0;36mMissaoAerea.crossover\u001b[0;34m(self, parent1, parent2)\u001b[0m\n\u001b[1;32m     58\u001b[0m map_p1_to_p2 \u001b[38;5;241m=\u001b[39m {p1_meio[i]: p2_meio[i] \u001b[38;5;28;01mfor\u001b[39;00m i \u001b[38;5;129;01min\u001b[39;00m \u001b[38;5;28mrange\u001b[39m(cut1, cut2)}\n\u001b[1;32m     59\u001b[0m map_p2_to_p1 \u001b[38;5;241m=\u001b[39m {p2_meio[i]: p1_meio[i] \u001b[38;5;28;01mfor\u001b[39;00m i \u001b[38;5;129;01min\u001b[39;00m \u001b[38;5;28mrange\u001b[39m(cut1, cut2)}\n\u001b[0;32m---> 62\u001b[0m offspring1_meio \u001b[38;5;241m=\u001b[39m \u001b[38;5;28;43mself\u001b[39;49m\u001b[38;5;241;43m.\u001b[39;49m\u001b[43mfill_offspring\u001b[49m\u001b[43m(\u001b[49m\u001b[43moffspring1_meio\u001b[49m\u001b[43m,\u001b[49m\u001b[43m \u001b[49m\u001b[43mp2_meio\u001b[49m\u001b[43m,\u001b[49m\u001b[43m \u001b[49m\u001b[43mmap_p2_to_p1\u001b[49m\u001b[43m,\u001b[49m\u001b[43mcut1\u001b[49m\u001b[43m,\u001b[49m\u001b[43mcut2\u001b[49m\u001b[43m)\u001b[49m\n\u001b[1;32m     63\u001b[0m offspring2_meio \u001b[38;5;241m=\u001b[39m \u001b[38;5;28mself\u001b[39m\u001b[38;5;241m.\u001b[39mfill_offspring(offspring2_meio, p1_meio, map_p1_to_p2,cut1,cut2)\n\u001b[1;32m     65\u001b[0m \u001b[38;5;28;01mreturn\u001b[39;00m [\u001b[38;5;241m0\u001b[39m] \u001b[38;5;241m+\u001b[39m offspring1_meio \u001b[38;5;241m+\u001b[39m [\u001b[38;5;241m0\u001b[39m], [\u001b[38;5;241m0\u001b[39m] \u001b[38;5;241m+\u001b[39m offspring2_meio \u001b[38;5;241m+\u001b[39m [\u001b[38;5;241m0\u001b[39m]\n",
            "Cell \u001b[0;32mIn[46], line 33\u001b[0m, in \u001b[0;36mMissaoAerea.fill_offspring\u001b[0;34m(self, offspring_target_middle, parent_source_middle, mapping_dict_source_to_target, cut1, cut2)\u001b[0m\n\u001b[1;32m     31\u001b[0m \u001b[38;5;28;01mdef\u001b[39;00m \u001b[38;5;21mfill_offspring\u001b[39m(\u001b[38;5;28mself\u001b[39m,offspring_target_middle, parent_source_middle, mapping_dict_source_to_target,cut1,cut2):\n\u001b[1;32m     32\u001b[0m     copied_segment_values \u001b[38;5;241m=\u001b[39m \u001b[38;5;28mset\u001b[39m(offspring_target_middle[cut1:cut2])\n\u001b[0;32m---> 33\u001b[0m     \u001b[38;5;28;01mfor\u001b[39;00m i \u001b[38;5;129;01min\u001b[39;00m \u001b[38;5;28mrange\u001b[39m(\u001b[43msize\u001b[49m):\n\u001b[1;32m     34\u001b[0m         \u001b[38;5;28;01mif\u001b[39;00m i \u001b[38;5;241m<\u001b[39m cut1 \u001b[38;5;129;01mor\u001b[39;00m i \u001b[38;5;241m>\u001b[39m\u001b[38;5;241m=\u001b[39m cut2:\n\u001b[1;32m     35\u001b[0m             gene_padrao \u001b[38;5;241m=\u001b[39m parent_source_middle[i]\n",
            "\u001b[0;31mNameError\u001b[0m: name 'size' is not defined"
          ],
          "output_type": "error"
        }
      ],
      "execution_count": 51
    },
    {
      "id": "ce7e1c57-9331-461b-b201-4aaea0adcf7c",
      "cell_type": "code",
      "source": "",
      "metadata": {
        "trusted": true
      },
      "outputs": [],
      "execution_count": null
    }
  ]
}